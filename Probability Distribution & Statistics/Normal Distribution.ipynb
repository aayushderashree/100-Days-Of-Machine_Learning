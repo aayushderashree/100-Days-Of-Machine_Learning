{
 "cells": [
  {
   "cell_type": "code",
   "execution_count": 1,
   "metadata": {},
   "outputs": [],
   "source": [
    "import numpy as np\n",
    "import matplotlib.pyplot as plt"
   ]
  },
  {
   "cell_type": "markdown",
   "metadata": {},
   "source": [
    "Generate a normal Distribution"
   ]
  },
  {
   "cell_type": "code",
   "execution_count": 4,
   "metadata": {},
   "outputs": [],
   "source": [
    "# standard normal distribution \n",
    "\n",
    "u=0\n",
    "sigma=1\n",
    "vals = u + sigma*np.random.randn(1000)\n",
    "\n"
   ]
  },
  {
   "cell_type": "code",
   "execution_count": 5,
   "metadata": {},
   "outputs": [
    {
     "data": {
      "text/plain": [
       "array([ 1.03970632e+00, -8.50262929e-01,  5.91918644e-01, -1.56393155e+00,\n",
       "       -2.14697403e-01, -4.33758156e-01,  3.15846895e-01,  1.41381413e+00,\n",
       "        1.87818142e+00, -8.95428782e-01,  5.59067219e-01, -1.32583304e+00,\n",
       "        1.27019036e-01, -1.50136699e+00,  2.71259327e-01,  1.20803961e+00,\n",
       "        9.50557144e-01, -1.04600551e+00,  1.97382435e+00, -1.12384023e-02,\n",
       "       -1.96623704e+00, -6.64739461e-02, -4.07711319e-01,  9.12711155e-01,\n",
       "       -8.88978643e-01, -3.96868757e-01, -5.15194002e-01, -1.82750069e+00,\n",
       "       -9.75845441e-01, -1.53126436e+00,  2.02570763e+00,  1.12320432e+00,\n",
       "        9.03997410e-01, -1.77417098e+00,  9.46667408e-02,  1.05385619e+00,\n",
       "       -4.40675691e-01, -1.01427742e-01,  1.35732071e-01, -1.78180108e-01,\n",
       "       -5.36679860e-01, -1.83567943e+00,  7.23168163e-01,  8.39297136e-01,\n",
       "       -3.70739378e-01, -2.58936543e-01,  2.28515514e+00,  1.68876621e+00,\n",
       "        7.45402742e-01, -5.46910745e-01,  9.35772809e-02,  1.26594945e+00,\n",
       "        1.02402840e+00,  3.97510268e-02, -6.21900329e-01, -1.23531085e+00,\n",
       "        1.52233811e+00,  1.03056213e+00, -1.09224077e+00,  2.79075209e-01,\n",
       "        1.24992156e+00,  2.09573578e+00,  1.25522641e+00,  3.76952804e-02,\n",
       "       -5.85783756e-01, -7.35260556e-01,  1.28350786e-02,  1.57071591e+00,\n",
       "        2.38571371e+00,  1.54879210e+00, -3.65832616e-02, -8.07728290e-01,\n",
       "       -2.20920586e+00,  1.65189000e+00, -1.92401919e-01,  9.45335631e-01,\n",
       "        1.53879243e+00,  3.79645322e-01,  1.81967165e+00, -2.86951636e-01,\n",
       "       -2.19991793e-01,  4.43141606e-01,  7.67967167e-01, -4.34039457e-01,\n",
       "        6.62036618e-03, -9.64519100e-01, -2.38804682e+00, -1.01796715e+00,\n",
       "        6.61992485e-01,  1.49927480e+00,  3.78889118e-02, -2.16861132e-01,\n",
       "        3.48361442e-02,  2.16934965e-01, -3.54743432e-02,  9.22841158e-01,\n",
       "        2.36129806e+00,  4.34532911e-01, -1.38599429e-01,  2.10345157e+00,\n",
       "        2.65388623e+00, -1.82095493e+00, -3.13593183e-01, -7.98071261e-01,\n",
       "       -8.08910890e-02,  1.50599546e-02, -6.59198275e-01, -1.17506255e+00,\n",
       "        8.78696272e-01, -8.14162771e-01,  4.04745040e-01,  8.98063339e-02,\n",
       "       -1.48591414e+00,  1.62806193e+00,  9.87439602e-01,  6.98500372e-01,\n",
       "        2.47390453e-01,  3.15846841e-01,  2.38003955e-01,  5.98448305e-01,\n",
       "       -4.21354126e-01,  1.27190542e-01,  1.58519470e+00, -1.26940175e+00,\n",
       "        3.65104883e-01,  1.06318604e+00,  6.09917929e-01,  4.36974401e-02,\n",
       "       -1.08303280e-01, -1.11998027e+00, -1.42554207e+00,  1.73440608e+00,\n",
       "        4.50028813e-01,  8.34255376e-01, -9.72178790e-02, -4.64979325e-01,\n",
       "       -1.22766499e+00, -2.60509168e+00,  8.60665126e-01,  6.46365971e-01,\n",
       "       -2.59193386e-01,  7.16586204e-01, -4.25591847e-01,  3.03495662e-01,\n",
       "       -8.97627404e-01, -8.31546916e-01, -1.27235771e+00, -2.20258805e+00,\n",
       "        1.11250686e+00,  9.68126617e-02, -2.14215457e-01, -7.54614093e-01,\n",
       "       -4.09188231e-01,  1.03202555e-01, -1.08306011e+00, -2.15198126e+00,\n",
       "        3.18695761e-01,  6.91296195e-01, -7.46332616e-01,  5.43614343e-01,\n",
       "        7.25255243e-01, -8.71549456e-01,  1.56061371e+00,  2.11090432e-01,\n",
       "       -1.19241087e-02,  1.41641887e+00,  1.13190423e+00,  1.97461528e-01,\n",
       "       -9.13321161e-01, -3.88305725e-01,  1.20210872e+00, -2.43765338e-01,\n",
       "        2.32615140e-01, -1.06554157e+00,  8.70922129e-01, -1.06852247e+00,\n",
       "        3.57122323e-01,  1.52645923e+00,  1.07448836e+00,  2.06370194e-01,\n",
       "        2.22930274e-01,  4.07424788e-01, -3.24003524e+00, -1.01225447e+00,\n",
       "       -9.16843258e-01, -1.46642074e+00, -6.58150959e-01, -1.35949074e-01,\n",
       "        8.79510819e-01,  8.77523683e-01, -2.14709632e+00,  8.35944737e-01,\n",
       "       -5.45055620e-01,  1.10163067e+00, -2.12583763e-01, -2.85879911e+00,\n",
       "        3.35054015e-01,  1.01736629e+00, -6.19827614e-01, -1.11564945e+00,\n",
       "        3.90606467e-01, -5.46863970e-01,  1.46643583e+00,  7.45855459e-01,\n",
       "        8.51708350e-01,  1.62521159e+00,  5.07669768e-01, -1.60348533e+00,\n",
       "       -1.30541421e+00,  7.93264817e-01, -1.81540837e-01,  2.03318918e-01,\n",
       "       -3.77960595e-01, -1.80723579e-01,  6.67022874e-01, -9.72981099e-01,\n",
       "        4.43957673e-01,  1.33010101e-01, -2.12377822e-01,  8.56059772e-01,\n",
       "        8.20141099e-01, -1.24540860e+00,  4.40634493e-01, -6.85286439e-01,\n",
       "        1.23074793e+00, -1.63412808e+00,  8.63683469e-02,  7.24103389e-01,\n",
       "        4.06575146e-01,  6.93695312e-01,  6.83325696e-01,  2.91200494e-01,\n",
       "       -1.83805341e-01, -4.03655946e-01,  6.61238053e-01, -1.04100206e+00,\n",
       "        8.04445447e-01, -2.40459781e-01, -1.39226210e-01, -8.15894932e-01,\n",
       "       -4.64758132e-01, -3.08787076e+00, -2.72746807e+00, -9.89701998e-01,\n",
       "        3.82768565e-01,  3.61763666e-01,  4.91067587e-01, -3.04243820e-01,\n",
       "       -1.10074511e+00, -9.40065536e-02,  3.89299183e-01, -1.10288275e+00,\n",
       "       -1.40835701e+00, -1.35275275e-01, -3.89819854e-01, -5.22895783e-01,\n",
       "        7.10412493e-01, -1.31500543e-01,  1.12524895e+00,  9.83878652e-01,\n",
       "       -9.48873366e-01,  3.83639616e-02, -1.56341702e+00, -8.44369868e-01,\n",
       "        1.33565048e-01, -1.52523127e+00,  4.78565705e-01,  3.74466652e-01,\n",
       "        2.25706379e+00, -1.13380632e+00,  5.16677566e-02, -3.23514447e-01,\n",
       "        1.21430805e+00,  1.23263867e+00,  9.74011112e-01,  4.13752307e-01,\n",
       "        4.04210165e-01, -9.93131816e-01,  4.16268500e-01,  1.06627372e+00,\n",
       "       -1.21469275e+00,  4.31890539e-01,  3.12497492e-01,  1.65924718e+00,\n",
       "        1.29479794e+00,  1.17395454e+00, -6.19416937e-01, -1.55299969e+00,\n",
       "       -9.65066426e-01, -9.36753512e-01, -2.89753857e-02,  1.42248372e-01,\n",
       "       -2.00389749e+00, -4.68248521e-01, -4.10938130e-01,  4.20152939e-01,\n",
       "       -8.77967970e-01,  1.20724682e+00, -2.15420445e-01, -1.38367272e+00,\n",
       "       -1.59255453e-01, -7.07826208e-01,  1.18727490e+00, -5.04209079e-02,\n",
       "       -1.05704214e+00, -1.97589018e+00,  8.56218497e-01,  5.63437148e-01,\n",
       "        4.24267994e-01,  1.27906808e+00,  6.12373170e-01,  6.08303651e-01,\n",
       "        8.24326470e-02, -2.61867220e-01,  1.43063920e+00, -1.46686390e-01,\n",
       "       -3.06851439e-01,  5.21118906e-01,  5.98566107e-01,  2.66588609e+00,\n",
       "       -7.77912746e-01, -1.72836703e-01, -1.44738922e+00,  1.07756405e+00,\n",
       "       -3.46965674e-02, -6.26221820e-01,  5.15617278e-04,  1.41508924e+00,\n",
       "       -1.73080240e+00,  4.28332497e-01,  5.14639391e-01, -2.03172642e+00,\n",
       "       -7.65077625e-03, -9.87274906e-01,  1.20259051e+00, -1.50026070e+00,\n",
       "       -1.19239709e+00, -5.56778199e-01, -1.23854541e+00, -3.28553215e+00,\n",
       "        4.03723494e-01, -7.32401226e-01,  7.10142767e-01, -4.46526691e-01,\n",
       "       -6.32351105e-01,  6.44122676e-01,  1.44024341e+00,  2.91805782e-01,\n",
       "        1.22207326e+00, -8.50875050e-01,  2.36121790e+00, -3.61845014e-01,\n",
       "       -4.90922405e-01,  5.04516719e-02,  5.13134916e-01, -1.57778500e+00,\n",
       "       -2.32233924e-01,  3.51096678e-01,  6.84981506e-01,  4.30085873e-01,\n",
       "       -6.53574574e-01,  6.24855534e-01,  2.24662185e+00,  4.01165277e-01,\n",
       "        4.64163149e-01,  7.12631400e-01,  3.29667887e-01,  1.14782028e+00,\n",
       "       -6.68145085e-01,  1.01011938e-02,  4.29774929e-03,  5.98867835e-01,\n",
       "        1.61291702e+00, -4.28903889e-01, -2.44183687e-01, -7.17371616e-03,\n",
       "       -1.46150928e-01,  6.31922942e-01,  2.30745458e+00, -2.49113254e-01,\n",
       "       -2.50413166e+00, -8.71583447e-01, -2.43223838e-01, -4.49718268e-01,\n",
       "       -5.67116403e-01, -1.14332821e+00, -2.64757023e-01,  1.96030986e-01,\n",
       "       -4.03393878e-01, -2.52693469e+00,  6.08479882e-01, -1.28028284e-01,\n",
       "       -4.43003079e-01,  7.23761976e-01,  6.63482397e-01,  6.04334693e-02,\n",
       "       -1.55029077e+00,  2.76744864e-01, -1.31248855e-01, -9.41935088e-01,\n",
       "       -3.25924208e-02, -1.03242196e+00,  1.70059104e+00,  1.54059576e+00,\n",
       "        6.07920142e-01, -7.48448650e-02, -1.65272195e+00, -4.08099944e-01,\n",
       "        8.26047997e-01,  1.18173499e+00,  9.22272225e-02, -1.16185871e-01,\n",
       "       -8.14398766e-01, -6.61576936e-01,  2.00420093e-02, -1.59175711e+00,\n",
       "        1.16651677e+00, -1.73039081e-01,  6.68799681e-01, -3.26668331e-01,\n",
       "        6.15886927e-01,  1.92478164e+00, -1.83012168e-01,  3.51484472e-01,\n",
       "        1.28449581e+00,  1.07722587e-01, -8.24780342e-01,  8.09514517e-01,\n",
       "       -1.13108495e+00,  6.02945772e-01,  7.67086812e-01, -1.11848999e+00,\n",
       "        3.07626880e-01, -9.93907683e-01, -1.29144327e+00,  5.13323331e-01,\n",
       "        3.12147777e-01, -4.42966108e-01,  1.56386225e+00, -6.18468556e-01,\n",
       "        6.95603445e-01, -1.00962152e+00, -6.57211224e-01, -1.71524814e+00,\n",
       "        1.12640258e+00,  9.96486119e-01, -8.24827917e-02, -1.97848760e-01,\n",
       "       -3.56018652e-01,  1.42484093e+00, -1.76940770e-01, -9.95502257e-01,\n",
       "       -7.12278382e-01, -8.98182515e-01,  2.73275498e+00,  3.47478809e-01,\n",
       "        4.85242958e-01, -3.94912620e-01,  2.85871521e-01, -7.38530995e-01,\n",
       "       -2.10576502e+00, -4.84611780e-01,  1.97722960e+00,  6.65883867e-01,\n",
       "       -6.06985869e-01, -3.08947661e-01,  2.09773742e+00, -6.04108636e-03,\n",
       "       -6.08890300e-01, -6.12598067e-01,  1.52305800e-01,  3.33375972e-01,\n",
       "       -7.56030628e-01, -5.83656861e-01,  1.70020292e+00, -5.37871803e-01,\n",
       "       -1.20084014e+00,  9.16006210e-01,  1.65641375e+00, -1.44025253e+00,\n",
       "       -1.29434905e-01,  1.03780872e+00,  1.55739691e+00, -5.32791316e-01,\n",
       "       -1.00139694e+00, -9.36898780e-01, -4.32355507e-01,  2.92403423e+00,\n",
       "        8.23077244e-01,  9.93046167e-01,  4.37680444e-02, -1.06507882e+00,\n",
       "       -2.33125447e-01,  9.65779287e-01,  7.18572936e-01,  1.08955396e-01,\n",
       "        4.13558584e-01, -3.71243691e-01,  5.47646990e-01,  1.56210007e+00,\n",
       "        1.05298499e+00, -1.65773736e-01,  2.30367228e+00, -1.58391845e+00,\n",
       "       -2.34302845e+00, -1.96925877e+00, -2.34422280e-01,  7.31952692e-01,\n",
       "       -1.72377674e+00, -4.50496281e-01, -3.66000568e-01,  1.24054996e+00,\n",
       "       -1.40753475e+00, -5.11800760e-01,  7.36142998e-01,  1.75107175e+00,\n",
       "       -7.77361771e-01,  2.10070674e+00, -8.80549984e-01,  5.46971404e-01,\n",
       "        1.74619351e+00, -2.09038999e+00, -3.51927366e-01, -4.74553866e-02,\n",
       "       -9.10985073e-01,  5.28326191e-01,  1.53830837e+00,  2.75196011e-01,\n",
       "       -1.40094091e+00, -1.43398508e-01, -6.05734890e-01, -5.28627844e-01,\n",
       "       -9.46246847e-01, -8.71757451e-01, -4.33559047e-01,  1.17010758e-01,\n",
       "       -7.83886774e-01,  2.89128945e-01,  3.06782947e-01, -2.26310299e-01,\n",
       "       -5.05753999e-02,  7.34730964e-01, -5.05301554e-01,  1.20387316e-01,\n",
       "        3.05868657e-01, -1.43084669e+00,  3.45145312e-01, -3.50454498e-01,\n",
       "       -5.73222364e-01, -3.76732376e-01, -2.84308673e-02,  1.70675341e-01,\n",
       "        8.33765393e-01,  4.65983013e-01, -1.23413002e+00,  1.01510254e+00,\n",
       "       -2.42704485e+00, -5.20147522e-01,  1.15279172e+00,  5.57723413e-01,\n",
       "       -4.01261038e-01,  4.09983124e-01, -2.86188091e+00, -1.89066667e+00,\n",
       "        3.19303513e-01, -8.87994795e-02, -2.18391208e+00, -9.83273364e-01,\n",
       "        5.46718127e-01,  1.84338074e+00,  5.02929426e-01,  1.62150096e+00,\n",
       "        2.16024112e-01,  8.06963930e-01,  2.05400252e-01, -3.85900431e-01,\n",
       "        2.51493845e-01, -6.77750307e-01, -1.24001646e+00,  1.24979048e+00,\n",
       "        1.00699849e+00,  7.66572202e-01,  1.89999047e+00,  1.73443933e+00,\n",
       "        6.65022717e-01,  1.94090894e+00,  6.31662004e-01, -4.63526886e-02,\n",
       "        6.24490638e-01, -1.05351911e+00, -5.28896920e-01, -1.38236424e+00,\n",
       "        1.48553559e+00,  6.03124619e-01, -9.64738178e-01, -4.75922741e-01,\n",
       "        8.35909380e-01, -8.46285265e-01, -5.79590895e-02,  1.23605911e+00,\n",
       "        1.90085997e+00,  1.67102383e+00,  2.15353258e+00, -7.33262574e-02,\n",
       "       -3.10223569e-01, -1.05358983e+00, -1.86542626e-01,  4.66905601e-01,\n",
       "       -2.74280343e+00, -3.41406348e-01,  5.75734979e-01, -8.28507391e-01,\n",
       "        4.83170927e-02,  3.90309706e-01,  1.29296576e+00, -6.39902187e-01,\n",
       "        2.27580241e-01,  7.94960832e-01,  1.42262569e+00, -5.60254519e-02,\n",
       "        2.25343421e+00,  1.08182024e+00, -8.36351651e-01,  3.42859561e-01,\n",
       "       -4.53285919e-01, -3.32086483e+00, -1.49145030e+00,  1.08384167e+00,\n",
       "       -7.54633843e-01,  4.06422490e-01,  8.06076344e-01,  3.82335932e-01,\n",
       "       -2.36051993e+00,  1.96572893e-01,  5.07017712e-02, -8.66078979e-01,\n",
       "       -1.30938920e+00,  1.00294233e+00, -1.23931941e+00,  7.52094233e-01,\n",
       "        9.98663636e-01,  1.17854275e+00,  1.36500070e+00,  1.67232624e+00,\n",
       "        3.92359639e-01, -9.38822662e-01, -7.31661517e-01,  1.80692073e+00,\n",
       "        1.00066349e-01, -2.14402610e-01, -2.35863834e+00, -5.87596810e-01,\n",
       "       -3.67602462e-01,  1.90888490e+00, -5.67632194e-01, -1.20370084e+00,\n",
       "       -3.49406790e-01,  1.14413484e+00, -1.34912901e-01, -8.89183133e-01,\n",
       "       -9.54073997e-01,  5.66794079e-01, -1.93204763e-01, -5.79032046e-01,\n",
       "        4.00939719e-01,  4.43726421e-01,  1.14119859e+00,  6.18147712e-01,\n",
       "       -1.14796843e+00, -8.24888243e-01,  2.59924040e-01,  1.57259582e+00,\n",
       "       -8.45913614e-01, -3.90147331e-01,  2.32710244e+00,  2.97075985e-01,\n",
       "       -2.04455622e+00,  3.20571064e-01, -5.05098042e-02, -6.84127300e-01,\n",
       "        1.41944443e+00, -1.85825346e+00,  1.41605843e+00, -1.00194966e+00,\n",
       "        6.35956016e-01, -1.37148990e+00,  2.06833460e+00, -3.97619179e-01,\n",
       "       -2.26696000e-01, -9.31910061e-01, -1.52415435e-01, -9.70714120e-01,\n",
       "        4.76013596e-01, -2.19153903e-01,  3.81188265e-01, -1.53005293e+00,\n",
       "       -5.01793036e-01,  1.54545785e+00, -8.59378033e-01, -9.60123078e-01,\n",
       "       -9.59589274e-01, -7.50191595e-01,  1.14045911e+00,  1.37398882e-01,\n",
       "        2.05112188e+00,  1.54775068e+00, -4.61989001e-01,  1.70035226e+00,\n",
       "       -1.84244567e+00,  7.26900999e-01,  6.41128146e-01,  6.81907417e-01,\n",
       "        3.60147399e-01, -1.22080652e+00,  9.21121451e-01, -2.89992835e-01,\n",
       "        1.59760032e-01, -5.52505346e-01, -9.06985585e-01,  1.13947587e+00,\n",
       "        1.73870889e+00, -5.61712961e-01, -1.23411338e+00,  1.52410949e+00,\n",
       "        7.45450543e-01,  8.16369837e-01, -3.00502842e-01,  1.32333644e+00,\n",
       "       -3.43269749e-01, -9.34655887e-01, -1.82648329e+00, -8.06475798e-01,\n",
       "       -6.55910506e-01,  3.04155304e-01,  1.43244651e+00,  1.14728443e+00,\n",
       "       -6.80704902e-01, -2.32793173e-01, -1.11775099e+00,  9.45658843e-01,\n",
       "       -9.36174563e-01,  7.49077329e-01, -3.04712765e-01, -7.08914877e-01,\n",
       "       -2.37876596e-02, -2.54865252e-01, -1.67320931e-01, -1.61850767e+00,\n",
       "        1.51382012e+00, -8.34528327e-01, -2.35766540e-01,  9.48560590e-01,\n",
       "       -7.48178421e-01,  6.90886660e-01, -7.39691843e-01,  1.15001514e-01,\n",
       "       -9.17897859e-02, -1.07645104e+00,  3.17992420e-01,  1.78061275e-01,\n",
       "        1.58295875e+00,  8.89781763e-01,  3.57864596e-01, -6.36005588e-01,\n",
       "       -4.99007265e-01, -5.01510592e-01,  1.21558271e-01,  2.73644046e+00,\n",
       "       -5.21861128e-02, -6.02523793e-01, -3.42318800e-01,  7.34004438e-01,\n",
       "       -4.50010840e-01, -4.68760721e-01,  1.42911866e+00, -1.21954722e+00,\n",
       "       -5.57331908e-01, -3.58431451e-01,  1.04118020e+00, -5.92806715e-02,\n",
       "       -9.58609763e-01,  1.02300059e+00, -1.72165194e+00,  3.56373333e-01,\n",
       "        8.36573802e-01,  8.14802844e-01,  3.70109642e-01, -5.85346863e-02,\n",
       "       -6.00199539e-01,  3.31389311e-01,  5.48383626e-01,  1.29237314e+00,\n",
       "        1.27017313e+00, -4.01512520e-01,  1.87560543e+00, -1.63991301e+00,\n",
       "        6.42541621e-01, -2.76891778e-01,  1.84953198e-01, -1.53995266e-01,\n",
       "       -2.50804838e-01, -1.64883546e-02,  8.23982487e-01,  1.59012566e+00,\n",
       "        2.48972663e+00, -1.31286452e+00, -1.20699281e-01,  1.04637858e+00,\n",
       "       -6.28301377e-01, -2.07932624e-02,  1.11040695e+00, -1.28996529e+00,\n",
       "       -6.53364869e-01, -3.42676831e-01, -2.06829949e-01,  7.20003103e-03,\n",
       "        1.49363169e-01,  1.81286113e+00, -4.34631480e-02,  1.03557059e+00,\n",
       "       -3.15568303e-01, -1.07333218e+00,  8.43200962e-01, -9.60554824e-01,\n",
       "        1.47318383e-01, -1.15135966e+00,  1.66272070e+00, -1.06444663e-01,\n",
       "       -7.66255738e-01,  9.23409665e-02, -1.55061179e-01, -4.97963397e-01,\n",
       "        1.43035386e-01,  1.21636500e+00,  1.55866678e+00, -5.17985620e-01,\n",
       "        6.84167380e-01,  2.23050706e+00, -8.49444563e-01,  3.59799481e-01,\n",
       "       -1.06828582e+00,  1.88992644e+00,  1.21675243e+00,  1.65130944e+00,\n",
       "       -1.09000595e+00, -2.30363936e-01, -1.06408759e+00,  1.53511019e-01,\n",
       "        3.18595112e-01,  2.29881656e-01, -8.71309464e-01, -1.96173284e+00,\n",
       "        1.48358676e-01,  6.69990604e-01, -8.72459884e-01,  2.65447824e-01,\n",
       "       -1.17756431e+00, -8.80022796e-01, -1.63510752e+00, -4.76242747e-01,\n",
       "        1.96367372e-01, -1.62956813e-01, -1.70910278e+00, -1.46873717e+00,\n",
       "       -9.01710978e-01,  2.61512957e-01,  1.99280294e+00, -5.76780452e-01,\n",
       "       -4.28567705e-01, -7.32290714e-01,  1.17465763e+00, -1.10182480e-01,\n",
       "        1.13248483e+00,  2.25695278e+00,  8.86215091e-01,  1.32458335e+00,\n",
       "        8.25693026e-02,  4.17263160e-01, -1.07078879e+00, -2.23510552e-01,\n",
       "       -4.64376737e-01,  5.96579136e-01,  1.97215170e-01, -5.75588526e-01,\n",
       "       -1.85463753e+00,  7.51462088e-01, -1.93432877e+00,  7.42385710e-01,\n",
       "        1.28414159e+00, -2.15763567e-01,  6.26880327e-02,  1.06203004e+00,\n",
       "        2.25880701e-03,  1.51930900e+00,  3.56985451e-01, -2.59931806e-01,\n",
       "       -1.09657281e-01,  3.61168544e-01,  4.50526072e-01, -6.62625239e-01,\n",
       "       -1.64771575e+00, -1.20387513e+00, -6.09924641e-02,  1.75353371e+00,\n",
       "       -7.04860810e-01,  1.74921768e+00, -6.55566528e-02, -2.44701632e-01,\n",
       "       -2.69533965e-01, -6.31470445e-01, -3.99536995e-01, -9.72613599e-01,\n",
       "       -2.23459289e-01, -7.07455560e-01,  1.24792964e+00, -5.27903274e-02,\n",
       "        1.91433102e+00, -7.96421997e-01,  6.81811382e-01, -1.54691082e+00,\n",
       "        2.89097502e-01,  6.99718181e-01, -1.13144788e+00, -4.80565357e-01,\n",
       "        2.28700409e-01, -6.43858714e-01, -6.36188482e-01,  2.30654402e+00,\n",
       "       -1.21683419e+00, -4.36140198e-01,  1.76497868e+00, -2.68728871e-01,\n",
       "        1.27946428e+00,  5.83965328e-01,  5.85461245e-02, -2.23074248e+00,\n",
       "       -9.51043305e-01, -9.23112457e-01,  1.90805115e-01, -2.08151730e-01,\n",
       "       -2.62539956e+00, -9.50821668e-01,  1.15367171e+00, -8.61846494e-01,\n",
       "        3.62418815e-01,  6.99066153e-01,  3.22444995e-01, -1.45755637e-01,\n",
       "        2.59155173e-02,  4.96777993e-01,  1.58519155e+00,  2.40044708e-01,\n",
       "        1.57125802e+00,  7.09669262e-01, -5.14631412e-01, -6.97800232e-01,\n",
       "       -9.17387385e-01, -9.42002661e-02,  5.37697074e-01,  2.55244501e-01,\n",
       "       -1.11723021e+00, -1.34262642e+00,  1.91024325e+00, -3.25431181e-01,\n",
       "        7.45701147e-01,  4.50538222e-01, -8.37924431e-01, -9.85848613e-01,\n",
       "        1.24212645e+00,  4.21990322e-01, -2.49291091e-01, -3.70394678e-01,\n",
       "        8.41161194e-01, -1.18641457e+00, -3.76558921e-01,  8.38091910e-02,\n",
       "        3.20274110e-01, -1.45163808e+00,  5.48458726e-01,  9.45629182e-01,\n",
       "       -5.14267174e-01, -5.85112269e-01,  3.35871528e-01, -9.18515104e-02,\n",
       "        3.65260048e-01, -2.54443214e-01, -1.07472301e+00, -2.40199357e-01,\n",
       "        1.31476201e+00, -1.38540985e+00, -1.26828710e+00,  4.65478701e-01,\n",
       "        2.92826818e-01,  7.53960964e-01,  9.88475225e-01,  6.00291980e-02,\n",
       "       -6.18078047e-01, -1.99458686e+00,  7.87948928e-01,  2.18480999e+00])"
      ]
     },
     "execution_count": 5,
     "metadata": {},
     "output_type": "execute_result"
    }
   ],
   "source": [
    "vals"
   ]
  },
  {
   "cell_type": "code",
   "execution_count": 9,
   "metadata": {},
   "outputs": [
    {
     "data": {
      "image/png": "[encoded data removed]",
      "text/plain": [
       "<Figure size 432x288 with 1 Axes>"
      ]
     },
     "metadata": {
      "needs_background": "light"
     },
     "output_type": "display_data"
    }
   ],
   "source": [
    "plt.hist(vals,50)\n",
    "\n",
    "plt.show()"
   ]
  },
  {
   "cell_type": "code",
   "execution_count": 10,
   "metadata": {},
   "outputs": [],
   "source": [
    "vals = np.round(vals)"
   ]
  },
  {
   "cell_type": "code",
   "execution_count": 11,
   "metadata": {},
   "outputs": [
    {
     "data": {
      "text/plain": [
       "(array([ 12.,   0.,   0.,   0.,   0.,   0.,   0.,   0.,  56.,   0.,   0.,\n",
       "          0.,   0.,   0.,   0.,   0., 240.,   0.,   0.,   0.,   0.,   0.,\n",
       "          0.,   0.,   0., 375.,   0.,   0.,   0.,   0.,   0.,   0.,   0.,\n",
       "        226.,   0.,   0.,   0.,   0.,   0.,   0.,   0.,  86.,   0.,   0.,\n",
       "          0.,   0.,   0.,   0.,   0.,   5.]),\n",
       " array([-3.  , -2.88, -2.76, -2.64, -2.52, -2.4 , -2.28, -2.16, -2.04,\n",
       "        -1.92, -1.8 , -1.68, -1.56, -1.44, -1.32, -1.2 , -1.08, -0.96,\n",
       "        -0.84, -0.72, -0.6 , -0.48, -0.36, -0.24, -0.12,  0.  ,  0.12,\n",
       "         0.24,  0.36,  0.48,  0.6 ,  0.72,  0.84,  0.96,  1.08,  1.2 ,\n",
       "         1.32,  1.44,  1.56,  1.68,  1.8 ,  1.92,  2.04,  2.16,  2.28,\n",
       "         2.4 ,  2.52,  2.64,  2.76,  2.88,  3.  ]),\n",
       " <a list of 50 Patch objects>)"
      ]
     },
     "execution_count": 11,
     "metadata": {},
     "output_type": "execute_result"
    },
    {
     "data": {
      "image/png": "[encoded data removed]",
      "text/plain": [
       "<Figure size 432x288 with 1 Axes>"
      ]
     },
     "metadata": {
      "needs_background": "light"
     },
     "output_type": "display_data"
    }
   ],
   "source": [
    "plt.hist(vals,50)"
   ]
  },
  {
   "cell_type": "code",
   "execution_count": 12,
   "metadata": {},
   "outputs": [],
   "source": [
    "z = np.unique(vals,return_counts=True)"
   ]
  },
  {
   "cell_type": "code",
   "execution_count": 13,
   "metadata": {},
   "outputs": [
    {
     "name": "stdout",
     "output_type": "stream",
     "text": [
      "(array([-3., -2., -1.,  0.,  1.,  2.,  3.]), array([ 12,  56, 240, 375, 226,  86,   5], dtype=int64))\n"
     ]
    }
   ],
   "source": [
    "print(z) # most of the values in the normal distribution are closer to mean"
   ]
  },
  {
   "cell_type": "code",
   "execution_count": 25,
   "metadata": {},
   "outputs": [
    {
     "data": {
      "text/plain": [
       "(array([ 1.,  0.,  0.,  0.,  0.,  0.,  1.,  0.,  0.,  0.,  0.,  1.,  1.,\n",
       "         0.,  0.,  0.,  0.,  0.,  1.,  0.,  1.,  0.,  3.,  0.,  2.,  1.,\n",
       "         0.,  1.,  0.,  2.,  1.,  1.,  5.,  2.,  2.,  4.,  4.,  6.,  4.,\n",
       "         5.,  1.,  4.,  7.,  3.,  4.,  3.,  5.,  4.,  4.,  4.,  5.,  3.,\n",
       "         9.,  6.,  5.,  4.,  8.,  8.,  5.,  8.,  5.,  8.,  7., 11.,  6.,\n",
       "        14., 11.,  9., 13.,  6.,  7., 10., 11., 17.,  9.,  7., 11.,  9.,\n",
       "        11., 10.,  9.,  8., 22., 12., 12., 13., 12., 13.,  9., 11., 16.,\n",
       "        14., 13., 13., 15., 11., 17., 12., 14., 15., 13., 11.,  7., 11.,\n",
       "        13., 12., 13., 11., 12., 10., 11., 19., 14.,  8.,  6., 10.,  7.,\n",
       "         9.,  7.,  5.,  7.,  8.,  8., 13.,  5.,  9.,  6.,  5.,  4.,  5.,\n",
       "        12.,  3.,  6.,  5.,  8.,  4.,  4.,  6.,  3.,  1.,  5.,  1.,  1.,\n",
       "         2.,  5.,  2.,  3.,  1.,  2.,  3.,  2.,  2.,  2.,  2.,  2.,  1.,\n",
       "         3.,  1.,  2.,  2.,  3.,  1.,  3.,  1.,  2.,  1.,  1.,  0.,  0.,\n",
       "         3.,  0.,  0.,  0.,  2.,  0.,  0.,  0.,  1.,  1.,  0.,  0.,  1.,\n",
       "         0.,  0.,  0.,  0.,  0.,  0.,  0.,  0.,  0.,  0.,  1.,  1.,  0.,\n",
       "         0.,  0.,  0.,  0.,  1.]),\n",
       " array([-1.06498714, -0.99964026, -0.93429339, -0.86894651, -0.80359964,\n",
       "        -0.73825276, -0.67290588, -0.60755901, -0.54221213, -0.47686526,\n",
       "        -0.41151838, -0.3461715 , -0.28082463, -0.21547775, -0.15013088,\n",
       "        -0.084784  , -0.01943713,  0.04590975,  0.11125663,  0.1766035 ,\n",
       "         0.24195038,  0.30729725,  0.37264413,  0.43799101,  0.50333788,\n",
       "         0.56868476,  0.63403163,  0.69937851,  0.76472538,  0.83007226,\n",
       "         0.89541914,  0.96076601,  1.02611289,  1.09145976,  1.15680664,\n",
       "         1.22215352,  1.28750039,  1.35284727,  1.41819414,  1.48354102,\n",
       "         1.54888789,  1.61423477,  1.67958165,  1.74492852,  1.8102754 ,\n",
       "         1.87562227,  1.94096915,  2.00631603,  2.0716629 ,  2.13700978,\n",
       "         2.20235665,  2.26770353,  2.3330504 ,  2.39839728,  2.46374416,\n",
       "         2.52909103,  2.59443791,  2.65978478,  2.72513166,  2.79047854,\n",
       "         2.85582541,  2.92117229,  2.98651916,  3.05186604,  3.11721291,\n",
       "         3.18255979,  3.24790667,  3.31325354,  3.37860042,  3.44394729,\n",
       "         3.50929417,  3.57464105,  3.63998792,  3.7053348 ,  3.77068167,\n",
       "         3.83602855,  3.90137542,  3.9667223 ,  4.03206918,  4.09741605,\n",
       "         4.16276293,  4.2281098 ,  4.29345668,  4.35880356,  4.42415043,\n",
       "         4.48949731,  4.55484418,  4.62019106,  4.68553793,  4.75088481,\n",
       "         4.81623169,  4.88157856,  4.94692544,  5.01227231,  5.07761919,\n",
       "         5.14296607,  5.20831294,  5.27365982,  5.33900669,  5.40435357,\n",
       "         5.46970044,  5.53504732,  5.6003942 ,  5.66574107,  5.73108795,\n",
       "         5.79643482,  5.8617817 ,  5.92712858,  5.99247545,  6.05782233,\n",
       "         6.1231692 ,  6.18851608,  6.25386295,  6.31920983,  6.38455671,\n",
       "         6.44990358,  6.51525046,  6.58059733,  6.64594421,  6.71129109,\n",
       "         6.77663796,  6.84198484,  6.90733171,  6.97267859,  7.03802547,\n",
       "         7.10337234,  7.16871922,  7.23406609,  7.29941297,  7.36475984,\n",
       "         7.43010672,  7.4954536 ,  7.56080047,  7.62614735,  7.69149422,\n",
       "         7.7568411 ,  7.82218798,  7.88753485,  7.95288173,  8.0182286 ,\n",
       "         8.08357548,  8.14892235,  8.21426923,  8.27961611,  8.34496298,\n",
       "         8.41030986,  8.47565673,  8.54100361,  8.60635049,  8.67169736,\n",
       "         8.73704424,  8.80239111,  8.86773799,  8.93308486,  8.99843174,\n",
       "         9.06377862,  9.12912549,  9.19447237,  9.25981924,  9.32516612,\n",
       "         9.390513  ,  9.45585987,  9.52120675,  9.58655362,  9.6519005 ,\n",
       "         9.71724737,  9.78259425,  9.84794113,  9.913288  ,  9.97863488,\n",
       "        10.04398175, 10.10932863, 10.17467551, 10.24002238, 10.30536926,\n",
       "        10.37071613, 10.43606301, 10.50140988, 10.56675676, 10.63210364,\n",
       "        10.69745051, 10.76279739, 10.82814426, 10.89349114, 10.95883802,\n",
       "        11.02418489, 11.08953177, 11.15487864, 11.22022552, 11.28557239,\n",
       "        11.35091927, 11.41626615, 11.48161302, 11.5469599 , 11.61230677,\n",
       "        11.67765365, 11.74300053, 11.8083474 , 11.87369428, 11.93904115,\n",
       "        12.00438803]),\n",
       " <a list of 200 Patch objects>)"
      ]
     },
     "execution_count": 25,
     "metadata": {},
     "output_type": "execute_result"
    },
    {
     "data": {
      "image/png": "[encoded data removed]",
      "text/plain": [
       "<Figure size 432x288 with 1 Axes>"
      ]
     },
     "metadata": {
      "needs_background": "light"
     },
     "output_type": "display_data"
    }
   ],
   "source": [
    "# another univariable normal distribution\n",
    "\n",
    "u=5\n",
    "sigma=2\n",
    "vals = u + sigma*np.random.randn(1000)\n",
    "#vals = np.round(vals)\n",
    "plt.hist(vals,200)"
   ]
  },
  {
   "cell_type": "code",
   "execution_count": 26,
   "metadata": {},
   "outputs": [],
   "source": [
    "#vals = np.round(vals)\n",
    "#z = np.unique(vals,return_counts=True)\n",
    "#print(z)"
   ]
  },
  {
   "cell_type": "code",
   "execution_count": 27,
   "metadata": {},
   "outputs": [
    {
     "data": {
      "image/png": "[encoded data removed]",
      "text/plain": [
       "<Figure size 432x288 with 1 Axes>"
      ]
     },
     "metadata": {
      "needs_background": "light"
     },
     "output_type": "display_data"
    }
   ],
   "source": [
    "# Making a scatter plot\n",
    "\n",
    "x = vals\n",
    "y = np.zeros(x.shape) \n",
    "\n",
    "plt.scatter(x,y) # densiy around the mean is very high\n",
    "plt.show()"
   ]
  },
  {
   "cell_type": "code",
   "execution_count": null,
   "metadata": {},
   "outputs": [],
   "source": []
  }
 ],
 "metadata": {
  "kernelspec": {
   "display_name": "Python 3",
   "language": "python",
   "name": "python3"
  },
  "language_info": {
   "codemirror_mode": {
    "name": "ipython",
    "version": 3
   },
   "file_extension": ".py",
   "mimetype": "text/x-python",
   "name": "python",
   "nbconvert_exporter": "python",
   "pygments_lexer": "ipython3",
   "version": "3.7.6"
  }
 },
 "nbformat": 4,
 "nbformat_minor": 4
}
